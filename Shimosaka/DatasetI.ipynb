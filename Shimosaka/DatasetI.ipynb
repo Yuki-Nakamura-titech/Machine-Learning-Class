{
 "cells": [
  {
   "cell_type": "code",
   "execution_count": 176,
   "metadata": {},
   "outputs": [],
   "source": [
    "import numpy as np\n",
    "import matplotlib.pyplot as plt"
   ]
  },
  {
   "cell_type": "code",
   "execution_count": 188,
   "metadata": {},
   "outputs": [
    {
     "name": "stdout",
     "output_type": "stream",
     "text": [
      "[[ 8.37300033e-01  7.93699348e-01]\n",
      " [ 1.03605722e+00  1.23540388e+00]\n",
      " [ 1.06078185e-01  1.13048479e+00]\n",
      " [ 6.23803663e-02  5.64852287e-01]\n",
      " [ 5.39645436e-01 -1.47933887e+00]\n",
      " [-1.27693512e+00  2.92583350e-01]\n",
      " [-1.37524637e+00 -7.78982083e-01]\n",
      " [-5.32744832e-01  1.02270983e+00]\n",
      " [ 4.38810286e-01  7.81540404e-02]\n",
      " [ 1.11391776e+00 -1.00743699e+00]\n",
      " [ 4.60483001e-01  8.35375184e-01]\n",
      " [-7.22903306e-03  1.39941819e+00]\n",
      " [ 1.06672198e-01 -6.66773472e-01]\n",
      " [-1.33232754e+00 -7.44089470e-01]\n",
      " [-9.84903028e-01 -1.20818888e-02]\n",
      " [ 1.13595626e-01  7.24405625e-01]\n",
      " [-4.06669782e-01  7.91612365e-01]\n",
      " [ 7.33555745e-03  4.92531308e-01]\n",
      " [-7.09344680e-01 -1.17722767e+00]\n",
      " [-1.37159492e+00  8.35267697e-01]\n",
      " [-1.24023968e+00 -9.66645467e-02]\n",
      " [ 3.10134634e-01  7.80204532e-01]\n",
      " [-3.05366057e-01  3.54851198e-01]\n",
      " [-1.22579420e+00  3.92092787e-01]\n",
      " [-1.48256417e-01 -1.45468032e+00]\n",
      " [ 1.37159053e+00  1.39358398e+00]\n",
      " [-6.56748670e-01  5.10388471e-02]\n",
      " [-3.40446970e-01 -7.48213171e-01]\n",
      " [ 1.24253605e+00  4.56349690e-02]\n",
      " [ 8.56593545e-01  1.48032615e+00]\n",
      " [-3.39718724e-01 -8.06943936e-01]\n",
      " [ 1.39062003e-01 -2.27051894e-01]\n",
      " [ 9.05770608e-01  9.97192644e-01]\n",
      " [-5.16818634e-01  1.07166964e+00]\n",
      " [ 3.44760242e-01  4.52935310e-01]\n",
      " [ 9.67675813e-01  2.80899288e-01]\n",
      " [ 3.95200450e-02  1.07179719e+00]\n",
      " [ 4.43810658e-01 -2.72596236e-01]\n",
      " [-9.89640137e-02  1.32709671e+00]\n",
      " [ 2.43119047e-01 -1.10202378e+00]\n",
      " [ 6.37241089e-02  1.15040847e+00]\n",
      " [ 4.69119665e-01  5.97257653e-01]\n",
      " [ 1.02889486e+00  1.13645280e+00]\n",
      " [-8.92456398e-04 -8.95767807e-02]\n",
      " [-1.49940854e+00 -1.26046216e+00]\n",
      " [ 5.96051899e-01 -1.35184906e+00]\n",
      " [ 8.86899531e-01  4.87895272e-01]\n",
      " [-2.80333841e-01 -1.21186238e+00]\n",
      " [-4.30375101e-01 -5.89941584e-01]\n",
      " [ 3.82442551e-01  2.60837354e-01]\n",
      " [-1.01883020e-01  4.27978892e-02]\n",
      " [-1.08571454e+00 -1.44447111e+00]\n",
      " [ 2.82375828e-01 -1.17748574e+00]\n",
      " [ 6.41524575e-01 -2.56507860e-01]\n",
      " [ 1.05462141e-02 -1.33383983e+00]\n",
      " [-1.08968922e+00  4.73412599e-01]\n",
      " [-1.13395049e+00  5.20917204e-01]\n",
      " [-7.99080273e-01 -1.38284796e+00]\n",
      " [ 2.43002539e-01  1.58102075e-01]\n",
      " [-1.28310972e+00 -8.84091482e-01]\n",
      " [-6.22359728e-01  1.08391975e+00]\n",
      " [ 2.26200251e-01 -7.57943435e-01]\n",
      " [ 4.33710726e-01 -4.20994975e-01]\n",
      " [-1.42849771e+00  1.01211396e+00]\n",
      " [-1.21189849e+00 -6.53384112e-01]\n",
      " [ 1.32175269e+00 -4.48484329e-02]\n",
      " [ 6.22561363e-01 -7.50175450e-01]\n",
      " [-1.07884654e+00  6.50562975e-01]\n",
      " [ 1.28734396e+00  1.14833087e+00]\n",
      " [ 1.22195294e+00 -5.85837306e-01]\n",
      " [ 5.08926298e-01  1.03173253e+00]\n",
      " [-6.81244325e-01  3.06329771e-01]\n",
      " [-3.42953973e-01  1.12536986e+00]\n",
      " [-1.15838986e-01 -4.11467056e-01]\n",
      " [-3.23979780e-01 -5.09020868e-01]\n",
      " [ 6.75739446e-01 -7.49583621e-01]\n",
      " [-1.48671702e+00 -1.42709850e+00]\n",
      " [-5.92378238e-01  7.85303229e-01]\n",
      " [ 8.37765338e-01  1.01956354e+00]\n",
      " [-1.40224077e+00  7.26963132e-01]\n",
      " [-1.06159872e+00  9.04142868e-01]\n",
      " [ 1.05555674e+00 -7.17361478e-01]\n",
      " [ 4.30523995e-01 -4.39341495e-01]\n",
      " [ 1.38438371e+00 -1.44553025e+00]\n",
      " [-1.44919637e+00 -5.40519889e-01]\n",
      " [ 4.93085210e-04 -7.19548941e-02]\n",
      " [ 9.23836913e-01 -3.38985545e-01]\n",
      " [ 1.85106136e-01 -1.36151970e+00]\n",
      " [-1.09879423e+00 -9.85511362e-01]\n",
      " [ 8.04895816e-01 -5.32136872e-03]\n",
      " [ 4.83892550e-01  3.07235746e-01]\n",
      " [ 6.33882944e-02  1.48907414e+00]\n",
      " [-1.01407257e+00  6.12526341e-01]\n",
      " [ 8.98666426e-02 -1.16953726e+00]\n",
      " [-1.22273353e+00  9.32566083e-02]\n",
      " [ 8.11557899e-01 -3.05650321e-01]\n",
      " [-1.43823357e+00 -2.89653289e-01]\n",
      " [-9.93524905e-01  9.56036574e-01]\n",
      " [-4.11027244e-01  8.31075008e-01]\n",
      " [ 1.41720272e+00 -9.50460863e-01]]\n"
     ]
    },
    {
     "ename": "TypeError",
     "evalue": "ufunc 'bitwise_and' not supported for the input types, and the inputs could not be safely coerced to any supported types according to the casting rule ''safe''",
     "output_type": "error",
     "traceback": [
      "\u001b[1;31m---------------------------------------------------------------------------\u001b[0m",
      "\u001b[1;31mTypeError\u001b[0m                                 Traceback (most recent call last)",
      "\u001b[1;32m<ipython-input-188-4e879bb3c108>\u001b[0m in \u001b[0;36m<module>\u001b[1;34m()\u001b[0m\n\u001b[0;32m      3\u001b[0m \u001b[0mradius\u001b[0m \u001b[1;33m=\u001b[0m \u001b[0mnp\u001b[0m\u001b[1;33m.\u001b[0m\u001b[0mpower\u001b[0m\u001b[1;33m(\u001b[0m\u001b[0mx\u001b[0m\u001b[1;33m[\u001b[0m\u001b[1;33m:\u001b[0m\u001b[1;33m,\u001b[0m \u001b[1;36m0\u001b[0m\u001b[1;33m]\u001b[0m\u001b[1;33m,\u001b[0m\u001b[1;36m2\u001b[0m\u001b[1;33m)\u001b[0m \u001b[1;33m+\u001b[0m \u001b[0mnp\u001b[0m\u001b[1;33m.\u001b[0m\u001b[0mpower\u001b[0m\u001b[1;33m(\u001b[0m\u001b[0mx\u001b[0m\u001b[1;33m[\u001b[0m\u001b[1;33m:\u001b[0m\u001b[1;33m,\u001b[0m \u001b[1;36m1\u001b[0m\u001b[1;33m]\u001b[0m\u001b[1;33m,\u001b[0m\u001b[1;36m2\u001b[0m\u001b[1;33m)\u001b[0m\u001b[1;33m\u001b[0m\u001b[0m\n\u001b[0;32m      4\u001b[0m \u001b[0mprint\u001b[0m\u001b[1;33m(\u001b[0m\u001b[0mx\u001b[0m\u001b[1;33m)\u001b[0m\u001b[1;33m\u001b[0m\u001b[0m\n\u001b[1;32m----> 5\u001b[1;33m \u001b[0my\u001b[0m \u001b[1;33m=\u001b[0m \u001b[0mradius\u001b[0m \u001b[1;33m>\u001b[0m \u001b[1;33m(\u001b[0m\u001b[1;36m0.7\u001b[0m \u001b[1;33m+\u001b[0m \u001b[1;36m0.1\u001b[0m \u001b[1;33m*\u001b[0m \u001b[0mnp\u001b[0m\u001b[1;33m.\u001b[0m\u001b[0mrandom\u001b[0m\u001b[1;33m.\u001b[0m\u001b[0mrandn\u001b[0m\u001b[1;33m(\u001b[0m\u001b[0mn\u001b[0m\u001b[1;33m,\u001b[0m \u001b[1;36m1\u001b[0m\u001b[1;33m)\u001b[0m\u001b[1;33m)\u001b[0m \u001b[1;33m&\u001b[0m \u001b[1;33m(\u001b[0m\u001b[0mradius\u001b[0m \u001b[1;33m<\u001b[0m \u001b[1;33m(\u001b[0m\u001b[1;36m2.2\u001b[0m \u001b[1;33m+\u001b[0m \u001b[1;36m0.1\u001b[0m \u001b[1;33m*\u001b[0m \u001b[0mnp\u001b[0m\u001b[1;33m.\u001b[0m\u001b[0mrandom\u001b[0m\u001b[1;33m.\u001b[0m\u001b[0mrandn\u001b[0m\u001b[1;33m(\u001b[0m\u001b[0mn\u001b[0m\u001b[1;33m,\u001b[0m \u001b[1;36m1\u001b[0m\u001b[1;33m)\u001b[0m\u001b[1;33m)\u001b[0m\u001b[1;33m)\u001b[0m\u001b[1;33m\u001b[0m\u001b[0m\n\u001b[0m\u001b[0;32m      6\u001b[0m \u001b[1;33m\u001b[0m\u001b[0m\n\u001b[0;32m      7\u001b[0m \u001b[1;33m\u001b[0m\u001b[0m\n",
      "\u001b[1;31mTypeError\u001b[0m: ufunc 'bitwise_and' not supported for the input types, and the inputs could not be safely coerced to any supported types according to the casting rule ''safe''"
     ]
    }
   ],
   "source": [
    "n = 100\n",
    "x = 3 * (np.random.rand(n, 2) - 0.5)\n",
    "radius = np.power(x[:, 0],2) + np.power(x[:, 1],2)\n",
    "print(x)\n",
    "y = radius > (0.7 + 0.1 * np.random.randn(n, 1)) & (radius < (2.2 + 0.1 * np.random.randn(n, 1)))\n"
   ]
  },
  {
   "cell_type": "code",
   "execution_count": null,
   "metadata": {},
   "outputs": [],
   "source": [
    "\n",
    "omega = np.array(np.random.randn(1, 1))\n",
    "noise = (0.8 * np.random.randn(n, 1))\n",
    "x = np.array(np.random.randn(n, 2))\n",
    "y = 2 * ((omega * x[:, 0] + x[:, 1] + noise[:, 0]) > 0) - 1\n",
    "y = y[0]"
   ]
  },
  {
   "cell_type": "code",
   "execution_count": 163,
   "metadata": {},
   "outputs": [],
   "source": [
    "x1 = x[:, 0]\n",
    "x2 = x[:, 1]\n",
    "rx1 = x1[y > 0]\n",
    "rx2 = x2[y > 0]\n",
    "bx1 = x1[y < 0]\n",
    "bx2 = x2[y < 0]\n",
    "rx = [rx1, rx2]\n",
    "bx = [bx1, bx2]"
   ]
  },
  {
   "cell_type": "code",
   "execution_count": 164,
   "metadata": {},
   "outputs": [
    {
     "data": {
      "text/plain": [
       "[<matplotlib.lines.Line2D at 0x80d4c18>]"
      ]
     },
     "execution_count": 164,
     "metadata": {},
     "output_type": "execute_result"
    },
    {
     "data": {
      "image/png": "[encoded data removed]",
      "text/plain": [
       "<Figure size 432x288 with 1 Axes>"
      ]
     },
     "metadata": {},
     "output_type": "display_data"
    }
   ],
   "source": [
    "plt.plot(rx1, rx2, 'o', color='red')\n",
    "plt.plot(bx1, bx2, 'gs', color='blue')"
   ]
  },
  {
   "cell_type": "code",
   "execution_count": null,
   "metadata": {},
   "outputs": [],
   "source": []
  }
 ],
 "metadata": {
  "kernelspec": {
   "display_name": "Python 3",
   "language": "python",
   "name": "python3"
  },
  "language_info": {
   "codemirror_mode": {
    "name": "ipython",
    "version": 3
   },
   "file_extension": ".py",
   "mimetype": "text/x-python",
   "name": "python",
   "nbconvert_exporter": "python",
   "pygments_lexer": "ipython3",
   "version": "3.6.5"
  }
 },
 "nbformat": 4,
 "nbformat_minor": 2
}
