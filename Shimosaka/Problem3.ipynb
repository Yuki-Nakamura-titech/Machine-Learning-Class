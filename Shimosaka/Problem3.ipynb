{
 "cells": [
  {
   "cell_type": "markdown",
   "metadata": {},
   "source": [
    "# Problem 3"
   ]
  },
  {
   "cell_type": "markdown",
   "metadata": {},
   "source": [
    "### Library import & Deta set"
   ]
  },
  {
   "cell_type": "code",
   "execution_count": 179,
   "metadata": {},
   "outputs": [],
   "source": [
    "# %load ../../standard_import.txt\n",
    "import pandas as pd\n",
    "import numpy as np\n",
    "import matplotlib as mpl\n",
    "import matplotlib.pyplot as plt\n",
    "from scipy.optimize import minimize"
   ]
  },
  {
   "cell_type": "code",
   "execution_count": 180,
   "metadata": {},
   "outputs": [
    {
     "name": "stdout",
     "output_type": "stream",
     "text": [
      "(1, 40)\n"
     ]
    },
    {
     "data": {
      "image/png": "[encoded data removed]",
      "text/plain": [
       "<Figure size 432x288 with 1 Axes>"
      ]
     },
     "metadata": {},
     "output_type": "display_data"
    }
   ],
   "source": [
    "n = 40\n",
    "omega = np.random.randn(1, 1)\n",
    "noise = 0.8 * np.random.randn(n, 1)\n",
    "x = np.random.randn(n, 2)\n",
    "y = 2 * ((omega * x[:, 0] + x[:, 1] + noise[:, 0]) > 0) - 1\n",
    "data = np.c_[x, y.T]\n",
    "\n",
    "def plotData(data, axes=None):\n",
    "    # Get indexes for class -1 and class 1\n",
    "    neg = data[:,2] == -1\n",
    "    pos = data[:,2] == 1\n",
    "    \n",
    "    # If no specific axes object has been passed, get the current axes.\n",
    "    if axes == None:\n",
    "        axes = plt.gca()\n",
    "    plt.plot(data[pos][:,0], data[pos][:,1], 'o', color='red')\n",
    "    plt.plot(data[neg][:,0], data[neg][:,1], 'gs', color='blue');\n",
    "    \n",
    "X = np.c_[np.ones((data.shape[0],1)), data[:,0:2]]\n",
    "y = np.c_[data[:,2]]\n",
    "\n",
    "plotData(data)\n",
    "\n",
    "K = np.zeros((n, n))\n",
    "for i in range(n):\n",
    "    for j in range(n):\n",
    "        K[i, j] = y[i]*y[j]*np.dot(X[i, :], X[j, :].T)\n",
    "print(y.T.shape)    \n"
   ]
  },
  {
   "cell_type": "code",
   "execution_count": 207,
   "metadata": {},
   "outputs": [],
   "source": [
    "def project(q):\n",
    "    for i in range(n):\n",
    "        if q[0, i] >= 1:\n",
    "            q[0, i] = 1\n",
    "        elif q[0, i] < 0:\n",
    "            q[0, i] = 0\n",
    "    return q\n",
    "\n",
    "\n",
    "def descent(initial_position, learning_rate, t):\n",
    "    \"\"\"\n",
    "    最小値を求める関数\n",
    "    :param numpy.ndarray initial_position: 関数の初期位置\n",
    "    :param float learning_rate: 学習率\n",
    "    :param int t: 学習回数\n",
    "    \"\"\"\n",
    "    a = initial_position\n",
    "    l = np.ones_like(a)\n",
    "    for _ in range(t):\n",
    "        q = a - lerning_rate*((1/(2*lam))*np.dot(K, a.T) - l)\n",
    "        P = project(q)\n",
    "        a = P\n",
    "    return a\n",
    "\n",
    "\n",
    "def L(alpha):\n",
    "    a = alpha\n",
    "    l = np.ones_like(a)\n",
    "    return np.dot(a,l.T)- (1/(4*lam))*np.dot(a,np.dot(K,a.T))\n",
    "\n",
    "\n",
    "def w(a):\n",
    "    return (1/(2*lam))*sum((a.T)*(y*X))\n",
    "\n",
    "\n",
    "def J(a):\n",
    "    w = (1/(2*lam))*sum((a.T)*(y*X))   \n",
    "    l = np.ones_like(y)\n",
    "    \n",
    "    u = np.zeros_like(y)\n",
    "    m = np.matrix(l.reshape(-1) - (y.reshape(-1)*np.dot(X, w.T)))\n",
    "    f = 0\n",
    "    for i in range(n):\n",
    "        if m[0, i] <= 0:\n",
    "            m[0, i] = 0\n",
    "        f += m[0, i]\n",
    "    return f + lam*np.dot(w, w.T)\n",
    "\n",
    "\n",
    "\n",
    "def descent_lag(L, initial_position, learning_rate, t):\n",
    "    \"\"\"\n",
    "    Lagrangeの収束を可視化する関数\n",
    "    :param function J: 最小値を見つけたい関数\n",
    "    :param numpy.ndarray initial_position: 関数の初期位置\n",
    "    :param float learning_rate: 学習率\n",
    "    :param int t: 学習回数\n",
    "    \"\"\"\n",
    "    a = initial_position\n",
    "    l = np.ones_like(a)\n",
    "    for i in range(t):\n",
    "        q = a - learning_rate*((1/(2*lam))*np.dot(K, a.T).T- l)\n",
    "        P = project(q)\n",
    "        a = P\n",
    "        plt.plot(i, L(a), 'o', color = 'Black', markersize = 2)\n",
    "        plt.ylabel('Lagrange-function: L(a)')\n",
    "        plt.xlabel('inteation: t') \n",
    "        \n",
    "\n",
    "def descent_hinge(J, initial_position, learning_rate, t):\n",
    "    \"\"\"\n",
    "    Lagrangeの収束を可視化する関数\n",
    "    :param function J: 最小値を見つけたい関数\n",
    "    :param numpy.ndarray initial_position: 関数の初期位置\n",
    "    :param float learning_rate: 学習率\n",
    "    :param int t: 学習回数\n",
    "    \"\"\"\n",
    "    a = initial_position\n",
    "    l = np.ones_like(a)\n",
    "    for i in range(t):\n",
    "        q = a - learning_rate*((1/(2*lam))*np.dot(K, a.T).T- l)\n",
    "        P = project(q)\n",
    "        a = P\n",
    "        plt.plot(i, J(a), 'o', color = 'Black', markersize = 2)\n",
    "        plt.ylabel('Loss-function: J(a)')\n",
    "        plt.xlabel('inteation: t') \n",
    "\n"
   ]
  },
  {
   "cell_type": "code",
   "execution_count": 208,
   "metadata": {},
   "outputs": [
    {
     "data": {
      "image/png": "[encoded data removed]",
      "text/plain": [
       "<Figure size 432x288 with 1 Axes>"
      ]
     },
     "metadata": {},
     "output_type": "display_data"
    }
   ],
   "source": [
    "lam = 0.1\n",
    "learning_rate = 0.01\n",
    "a0 = 10*np.ones_like(y.T)\n",
    "t = 50\n",
    "\n",
    "descent_lag(L, a0, learning_rate, t)"
   ]
  },
  {
   "cell_type": "code",
   "execution_count": 209,
   "metadata": {},
   "outputs": [
    {
     "data": {
      "image/png": "[encoded data removed]",
      "text/plain": [
       "<Figure size 432x288 with 1 Axes>"
      ]
     },
     "metadata": {},
     "output_type": "display_data"
    }
   ],
   "source": [
    "descent_hinge(J, a0, learning_rate, t)"
   ]
  },
  {
   "cell_type": "code",
   "execution_count": null,
   "metadata": {},
   "outputs": [],
   "source": []
  }
 ],
 "metadata": {
  "kernelspec": {
   "display_name": "Python 3",
   "language": "python",
   "name": "python3"
  },
  "language_info": {
   "codemirror_mode": {
    "name": "ipython",
    "version": 3
   },
   "file_extension": ".py",
   "mimetype": "text/x-python",
   "name": "python",
   "nbconvert_exporter": "python",
   "pygments_lexer": "ipython3",
   "version": "3.6.5"
  }
 },
 "nbformat": 4,
 "nbformat_minor": 2
}
